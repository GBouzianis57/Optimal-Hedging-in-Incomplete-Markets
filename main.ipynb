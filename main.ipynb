{
 "cells": [
  {
   "cell_type": "code",
   "execution_count": 36,
   "metadata": {},
   "outputs": [],
   "source": [
    "######################################Inputs###############################################\n",
    "\n",
    "##########Assets##########\n",
    "jump_vol_a1 = 0.30; # Asset 1 jump volatility\n",
    "jump_vol_a2 = 0.20; # Asset 2 jump volatility\n",
    "jump_vol_c = 0.25 # Contract jump volatility\n",
    "\n",
    "bm_vol_a1 = 0.20; # Asset 1 brownian volatility\n",
    "bm_vol_a2 = 0.10; # Asset 2 brownian volatility\n",
    "bm_vol_c = 0.15; # Contract brownian volatility\n",
    "\n",
    "a1 = 100; # Asset 1 initial value\n",
    "a2 = 100; # Asset 2 initial value\n",
    "c = 100; # Contract initial value\n",
    "\n",
    "###########Settings#########\n",
    "T = 1; # Time\n",
    "m = 15; # Poisson process intensity \n",
    "jump = [1 -1]; # The distribution of Y_t is binomial. \n",
    "#The value of Y_t is g=1 with probabilty p, and h=-1 with probability (1-p)\n",
    "p = 0.5; # Setting the probabilities for the jumps of Y_t\n",
    "simulations = 1; # Number of scenarios\n",
    "steps = 1000; # Underlying steps for each scenario\n",
    "\n"
   ]
  },
  {
   "cell_type": "code",
   "execution_count": 37,
   "metadata": {},
   "outputs": [
    {
     "name": "stderr",
     "output_type": "stream",
     "text": [
      "WARNING: replacing module calc.\n"
     ]
    }
   ],
   "source": [
    "include(\"calc.jl\");\n",
    "\n",
    "(W_t, N_t, X_t, S_t_1, S_t_2, C_t, one_asset_phi_1, one_asset_phi_2, one_asset_risk_1,\n",
    "    one_asset_risk_2, one_asset_expected_risk_1, one_asset_expected_risk_2, two_assets_phi_1, two_assets_phi_2,\n",
    "    two_assets_risk, two_assets_expected_risk) = \n",
    "        calc.computations(T, steps, simulations, jump_vol_a1,\n",
    "        jump_vol_a2, jump_vol_c, bm_vol_a1, bm_vol_a2, bm_vol_c, a1, a2, c, m, jump, p);"
   ]
  }
 ],
 "metadata": {
  "kernelspec": {
   "display_name": "IJulia nodeps 1.1.1",
   "language": "julia",
   "name": "ijulia-nodeps-1.1"
  },
  "language_info": {
   "file_extension": ".jl",
   "mimetype": "application/julia",
   "name": "julia",
   "version": "1.1.1"
  }
 },
 "nbformat": 4,
 "nbformat_minor": 2
}
