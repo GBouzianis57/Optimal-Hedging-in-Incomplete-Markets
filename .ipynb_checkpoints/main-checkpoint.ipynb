{
 "cells": [
  {
   "cell_type": "code",
   "execution_count": 24,
   "metadata": {},
   "outputs": [],
   "source": [
    "using   Distributions\n",
    "\n",
    "######################################Inputs###############################################\n",
    "\n",
    "##########Assets##########\n",
    "sigma_1 = 0.30; # Asset 1 jump volatility\n",
    "sigma_2 = 0.20; # Asset 2 jump volatility\n",
    "sigma_H = 0.25 # Contract jump volatility\n",
    "\n",
    "beta_1 = 0.20; # Asset 1 brownian volatility\n",
    "beta_2 = 0.10; # Asset 2 brownian volatility\n",
    "beta_H = 0.15; # Contract brownian volatility\n",
    "\n",
    "S_0_1 = 100; # Asset 1 initial value\n",
    "S_0_2 = 100; # Asset 2 initial value\n",
    "C_0 = 100; # Contract initial value\n",
    "\n",
    "###########Settings#########\n",
    "T = 1; # Time\n",
    "m = 15; # Poisson process intensity \n",
    "jump = [1 -1]; # The distribution of Y_t is binomial. \n",
    "#The value of Y_t is g=1 with probabilty p, and h=-1 with probability (1-p)\n",
    "p = 0.5; # Setting the probabilities for the jumps of Y_t\n",
    "Simulations = 1; # Number of scenarios\n",
    "Steps = 1000; # Underlying steps for each scenario\n",
    "\n"
   ]
  },
  {
   "cell_type": "code",
   "execution_count": 25,
   "metadata": {},
   "outputs": [],
   "source": [
    "\n",
    "\n",
    "\n",
    "\n",
    "\n",
    "    \n",
    "\n",
    "\n",
    "     \n"
   ]
  }
 ],
 "metadata": {
  "kernelspec": {
   "display_name": "IJulia nodeps 1.1.1",
   "language": "julia",
   "name": "ijulia-nodeps-1.1"
  },
  "language_info": {
   "file_extension": ".jl",
   "mimetype": "application/julia",
   "name": "julia",
   "version": "1.1.1"
  }
 },
 "nbformat": 4,
 "nbformat_minor": 2
}
